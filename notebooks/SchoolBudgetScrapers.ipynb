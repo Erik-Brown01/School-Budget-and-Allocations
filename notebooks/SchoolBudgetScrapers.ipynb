{
 "cells": [
  {
   "cell_type": "code",
   "execution_count": 3,
   "id": "fb924818",
   "metadata": {},
   "outputs": [],
   "source": [
    "#install packages\n",
    "!pip install beautifulsoup4 selenium webdriver-manager pandas requests"
   ]
  },
  {
   "cell_type": "code",
   "execution_count": 51,
   "id": "1287586a",
   "metadata": {},
   "outputs": [],
   "source": [
    "from bs4 import BeautifulSoup, NavigableString, Tag\n",
    "import pandas as pd\n",
    "import requests\n",
    "import os\n",
    "from selenium import webdriver\n",
    "from selenium.webdriver.common.by import By\n",
    "from selenium.webdriver.chrome.service import Service as ChromeService\n",
    "from webdriver_manager.chrome import ChromeDriverManager\n",
    "from selenium.webdriver.support.ui import Select\n",
    "import numpy as np\n",
    "import glob\n",
    "import time\n",
    "import re"
   ]
  },
  {
   "cell_type": "code",
   "execution_count": 33,
   "id": "06e80a2a",
   "metadata": {},
   "outputs": [],
   "source": [
    "chrome_options = webdriver.ChromeOptions()\n",
    "#save any files in the current working directory\n",
    "prefs = {'download.default_directory' : os.getcwd()}\n",
    "chrome_options.add_experimental_option('prefs', prefs)\n",
    "service = ChromeService(executable_path=ChromeDriverManager().install())"
   ]
  },
  {
   "cell_type": "code",
   "execution_count": 61,
   "id": "6f7e82ff",
   "metadata": {},
   "outputs": [],
   "source": [
    "BUDGET_TYPES = {\n",
    "    'budget': {\n",
    "        'url': 'https://www.nycenet.edu/offices/d_chanc_oper/budget/dbor/galaxy/galaxybudgetsummaryto/default.aspx'\n",
    "    },\n",
    "    'allocation': {\n",
    "        'url': 'https://www.nycenet.edu/offices/d_chanc_oper/budget/dbor/galaxy/galaxyallocation/default.aspx'\n",
    "    }\n",
    "}\n",
    "\n",
    "def openBudgetSite(driver, school_code, fiscal_year, budgetType):\n",
    "    # go to url\n",
    "    url = BUDGET_TYPES.get(budgetType, {}).get('url')\n",
    "    if not url: raise ValueError(f'Budget or Allocation value must be either {BUDGET_TYPES.keys()}')\n",
    "    driver.get(url)\n",
    "                         \n",
    "    # type school code\n",
    "    element = driver.find_element(By.XPATH,'//*[@id=\"School_Code\"]')\n",
    "    element.send_keys(school_code)\n",
    "\n",
    "    # select fiscal year in drop down\n",
    "    x = driver.find_element(By.XPATH,'//*[@id=\"Fiscal_Year\"]')\n",
    "    drop=Select(x)\n",
    "    drop.select_by_visible_text(fiscal_year)\n",
    "\n",
    "    # submit\n",
    "    driver.find_element(By.XPATH,'//*[@id=\"Enter\"]').click()\n",
    "\n",
    "    try:\n",
    "        element = driver.find_element(By.XPATH,'//*[@id=\"message\"]/div[1]/div[3]/h2/a')\n",
    "        # check if codes match\n",
    "        driver_school_code = re.search('\\d{2}(.{1}\\d{3})',element.text).group(1)\n",
    "        return school_code == driver_school_code\n",
    "    except Exception as e:    \n",
    "        #[on_true] if [expression] else [on_false] \n",
    "        print(e.message) if hasattr(e, 'message') else print(e)\n",
    "        return False"
   ]
  },
  {
   "cell_type": "code",
   "execution_count": 77,
   "id": "bf6a783e",
   "metadata": {},
   "outputs": [],
   "source": [
    "def allocationPageScraper(driver, school_code, fiscal_year):\n",
    "    list_of_dfs = pd.read_html(driver.page_source)\n",
    "    df = pd.concat(list_of_dfs, ignore_index=True)\n",
    "\n",
    "    #rename columns\n",
    "    df.columns = ['allocation_category', 'amount']\n",
    "    \n",
    "    #remove rows with total\n",
    "    #df = df[df[\"allocation_category\"].str.contains(\"total\", case = False)==False]\n",
    "    df = df[~df['allocation_category'].str.contains(\"Grand Total\")]\n",
    "    \n",
    "    #add id columns\n",
    "    final_df['location_code'] = school_code\n",
    "    final_df['fiscal_year'] = fiscal_year\n",
    "    return final_df"
   ]
  },
  {
   "cell_type": "code",
   "execution_count": 83,
   "id": "a4a0002c",
   "metadata": {},
   "outputs": [],
   "source": [
    "def budgetPageScraper(driver, school_code, fiscal_year):\n",
    "    section_titles = driver.find_elements(By.CLASS_NAME , 'TO_Section')\n",
    "    list_of_dfs = pd.read_html(driver.page_source)\n",
    "    final_df = pd.DataFrame()\n",
    "    \n",
    "    COLUMN_OPITONS = {\n",
    "        2: ['budget_assignment','amount'],\n",
    "        3: ['budget_assignment','num_positions','amount'],\n",
    "        4: ['budget_assignment','service_type','num_positions','amount']\n",
    "    }\n",
    "    \n",
    "    for i, df in enumerate(list_of_dfs):\n",
    "        #rename columns\n",
    "        new_columns = COLUMN_OPITONS[len(df.columns)]\n",
    "        df.columns = new_columns\n",
    "        \n",
    "        #add budget_category context (otps, per session , per diem, etc)\n",
    "        df['budget_category'] = section_titles[i].text\n",
    "        \n",
    "        #todo: drop total \n",
    "        \n",
    "        \n",
    "        final_df = pd.concat([final_df, df])\n",
    "        \n",
    "    #remove rows with total\n",
    "    df = df[~df['budget_assignment'].str.contains(\"Grand Total\")]\n",
    "    \n",
    "    #add id columns\n",
    "    final_df['location_code'] = school_code\n",
    "    final_df['fiscal_year'] = fiscal_year\n",
    "   \n",
    "            \n",
    "    return final_df"
   ]
  },
  {
   "cell_type": "code",
   "execution_count": 47,
   "id": "cccec99d",
   "metadata": {},
   "outputs": [],
   "source": [
    "school_code = 'M125'\n",
    "fiscal_year = '2022'\n",
    "driver = webdriver.Chrome(service = service, options=chrome_options)"
   ]
  },
  {
   "cell_type": "code",
   "execution_count": 78,
   "id": "932e26d6",
   "metadata": {},
   "outputs": [],
   "source": [
    "if openBudgetSite(driver, school_code, fiscal_year, 'allocation'):\n",
    "    df = allocationPageScraper(driver, school_code, fiscal_year)"
   ]
  },
  {
   "cell_type": "code",
   "execution_count": 84,
   "id": "c80193a5",
   "metadata": {},
   "outputs": [],
   "source": [
    "if openBudgetSite(driver, school_code, fiscal_year, 'budget'):\n",
    "    df = budgetPageScraper(driver, school_code, fiscal_year)"
   ]
  }
 ],
 "metadata": {
  "kernelspec": {
   "display_name": "Python 3 (ipykernel)",
   "language": "python",
   "name": "python3"
  },
  "language_info": {
   "codemirror_mode": {
    "name": "ipython",
    "version": 3
   },
   "file_extension": ".py",
   "mimetype": "text/x-python",
   "name": "python",
   "nbconvert_exporter": "python",
   "pygments_lexer": "ipython3",
   "version": "3.10.5"
  },
  "toc": {
   "base_numbering": 1,
   "nav_menu": {},
   "number_sections": true,
   "sideBar": true,
   "skip_h1_title": false,
   "title_cell": "Table of Contents",
   "title_sidebar": "Contents",
   "toc_cell": false,
   "toc_position": {},
   "toc_section_display": true,
   "toc_window_display": false
  },
  "varInspector": {
   "cols": {
    "lenName": 16,
    "lenType": 16,
    "lenVar": 40
   },
   "kernels_config": {
    "python": {
     "delete_cmd_postfix": "",
     "delete_cmd_prefix": "del ",
     "library": "var_list.py",
     "varRefreshCmd": "print(var_dic_list())"
    },
    "r": {
     "delete_cmd_postfix": ") ",
     "delete_cmd_prefix": "rm(",
     "library": "var_list.r",
     "varRefreshCmd": "cat(var_dic_list()) "
    }
   },
   "types_to_exclude": [
    "module",
    "function",
    "builtin_function_or_method",
    "instance",
    "_Feature"
   ],
   "window_display": false
  }
 },
 "nbformat": 4,
 "nbformat_minor": 5
}
